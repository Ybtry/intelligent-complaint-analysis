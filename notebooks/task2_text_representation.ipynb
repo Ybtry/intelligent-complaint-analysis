{
 "cells": [
  {
   "cell_type": "code",
   "execution_count": null,
   "id": "25a27b34",
   "metadata": {},
   "outputs": [
    {
     "ename": "ModuleNotFoundError",
     "evalue": "No module named 'sklearn'",
     "output_type": "error",
     "traceback": [
      "\u001b[31m---------------------------------------------------------------------------\u001b[39m",
      "\u001b[31mModuleNotFoundError\u001b[39m                       Traceback (most recent call last)",
      "\u001b[36mCell\u001b[39m\u001b[36m \u001b[39m\u001b[32mIn[1]\u001b[39m\u001b[32m, line 2\u001b[39m\n\u001b[32m      1\u001b[39m \u001b[38;5;28;01mimport\u001b[39;00m\u001b[38;5;250m \u001b[39m\u001b[34;01mpandas\u001b[39;00m\u001b[38;5;250m \u001b[39m\u001b[38;5;28;01mas\u001b[39;00m\u001b[38;5;250m \u001b[39m\u001b[34;01mpd\u001b[39;00m\n\u001b[32m----> \u001b[39m\u001b[32m2\u001b[39m \u001b[38;5;28;01mfrom\u001b[39;00m\u001b[38;5;250m \u001b[39m\u001b[34;01msklearn\u001b[39;00m\u001b[34;01m.\u001b[39;00m\u001b[34;01mfeature_extraction\u001b[39;00m\u001b[34;01m.\u001b[39;00m\u001b[34;01mtext\u001b[39;00m\u001b[38;5;250m \u001b[39m\u001b[38;5;28;01mimport\u001b[39;00m TfidfVectorizer\n\u001b[32m      3\u001b[39m \u001b[38;5;28;01mimport\u001b[39;00m\u001b[38;5;250m \u001b[39m\u001b[34;01mpickle\u001b[39;00m\n\u001b[32m      4\u001b[39m \u001b[38;5;28;01mimport\u001b[39;00m\u001b[38;5;250m \u001b[39m\u001b[34;01mos\u001b[39;00m \u001b[38;5;66;03m# Import os module for path operations\u001b[39;00m\n",
      "\u001b[31mModuleNotFoundError\u001b[39m: No module named 'sklearn'"
     ]
    }
   ],
   "source": [
    "import pandas as pd\n",
    "from sklearn.feature_extraction.text import TfidfVectorizer\n",
    "import pickle\n",
    "import os\n",
    "\n",
    "print(\"Starting Task 2: Text Representation\")\n",
    "\n",
    "input_path = '../data/filtered_complaints.csv'\n",
    "output_dir = '../data/processed/'\n",
    "\n",
    "os.makedirs(output_dir, exist_ok=True)\n",
    "\n",
    "try:\n",
    "    df_filtered = pd.read_csv(input_path)\n",
    "    print(f\"Loaded filtered data from {input_path}. Shape: {df_filtered.shape}\")\n",
    "    print(df_filtered.head())\n",
    "except FileNotFoundError:\n",
    "    print(f\"Error: {input_path} not found. Please ensure Task 1 completed successfully.\")\n",
    "    exit()\n",
    "\n",
    "df_filtered['cleaned_narrative'] = df_filtered['cleaned_narrative'].astype(str).fillna('')\n",
    "df_filtered = df_filtered[df_filtered['cleaned_narrative'].str.strip() != '']\n",
    "\n",
    "print(f\"Shape after ensuring cleaned narratives: {df_filtered.shape}\")\n",
    "\n",
    "tfidf_vectorizer = TfidfVectorizer(max_features=5000, min_df=5, ngram_range=(1, 2))\n",
    "\n",
    "print(\"Fitting TF-IDF Vectorizer and transforming text data...\")\n",
    "X_tfidf = tfidf_vectorizer.fit_transform(df_filtered['cleaned_narrative'])\n",
    "\n",
    "print(f\"TF-IDF matrix shape: {X_tfidf.shape}\")\n",
    "print(f\"Number of features (vocabulary size): {len(tfidf_vectorizer.get_feature_names_out())}\")\n",
    "\n",
    "tfidf_matrix_path = os.path.join(output_dir, 'tfidf_matrix.pkl')\n",
    "tfidf_vectorizer_path = os.path.join(output_dir, 'tfidf_vectorizer.pkl')\n",
    "df_filtered_path = os.path.join(output_dir, 'df_filtered_with_indices.pkl')\n",
    "\n",
    "with open(tfidf_matrix_path, 'wb') as f:\n",
    "    pickle.dump(X_tfidf, f)\n",
    "print(f\"TF-IDF matrix saved to: {tfidf_matrix_path}\")\n",
    "\n",
    "with open(tfidf_vectorizer_path, 'wb') as f:\n",
    "    pickle.dump(tfidf_vectorizer, f)\n",
    "print(f\"TF-IDF vectorizer saved to: {tfidf_vectorizer_path}\")\n",
    "\n",
    "df_filtered.to_pickle(df_filtered_path)\n",
    "print(f\"Filtered DataFrame with cleaned narratives saved to: {df_filtered_path}\")\n",
    "\n",
    "print(\"Text Representation completed.\")"
   ]
  }
 ],
 "metadata": {
  "kernelspec": {
   "display_name": ".venv",
   "language": "python",
   "name": "python3"
  },
  "language_info": {
   "codemirror_mode": {
    "name": "ipython",
    "version": 3
   },
   "file_extension": ".py",
   "mimetype": "text/x-python",
   "name": "python",
   "nbconvert_exporter": "python",
   "pygments_lexer": "ipython3",
   "version": "3.11.8"
  }
 },
 "nbformat": 4,
 "nbformat_minor": 5
}
